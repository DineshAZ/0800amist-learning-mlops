{
 "cells": [
  {
   "cell_type": "code",
   "execution_count": 21,
   "id": "3e7cec43-07a3-4ab7-ba6e-1eae12b9b179",
   "metadata": {},
   "outputs": [],
   "source": [
    "#Import Libraries\n",
    "import pandas as pd\n",
    "import numpy as np\n",
    "\n",
    "from sklearn.model_selection import train_test_split\n",
    "from sklearn.linear_model import LinearRegression"
   ]
  },
  {
   "cell_type": "code",
   "execution_count": 2,
   "id": "2149d36a-4c90-4d4b-bd36-907146787e07",
   "metadata": {},
   "outputs": [],
   "source": [
    "# Load the Dataset\n",
    "df = pd.read_csv('data/rental_1000.csv')"
   ]
  },
  {
   "cell_type": "code",
   "execution_count": 61,
   "id": "1fb34d09-f08f-48c9-a06e-47901811d4f7",
   "metadata": {},
   "outputs": [],
   "source": [
    "# Features and Labels\n",
    "X = df[['rooms','sqft']].values  # Features\n",
    "y = df['price'].values         # Label"
   ]
  },
  {
   "cell_type": "code",
   "execution_count": 62,
   "id": "2710325f-a163-4e85-a0ac-05e8b9d7362c",
   "metadata": {},
   "outputs": [],
   "source": [
    "#Split the data for Training and Testing\n",
    "X_train, X_test, y_train, y_test = train_test_split(X, y, random_state=0)"
   ]
  },
  {
   "cell_type": "markdown",
   "id": "868b3e3f-63b2-4eed-95f4-59c76bad79ff",
   "metadata": {},
   "source": [
    "# Quadratic Equation of Striaght line - y=mx+c\n"
   ]
  },
  {
   "cell_type": "markdown",
   "id": "e3230d53-530e-4a14-84ff-c5c3d5651850",
   "metadata": {},
   "source": [
    "## y=mx+c\n",
    "### Function(y)= m(input) + constant\n",
    "### rent (y) = m1(rooms) + m2(sqft) + constant\n",
    "### rent(y) = 462.75538365(sqft) +  49.73297558(rooms) + 532.8326351891155"
   ]
  },
  {
   "cell_type": "code",
   "execution_count": 64,
   "id": "84afd499-8c1e-461a-bbfb-8cecc02a6a76",
   "metadata": {},
   "outputs": [],
   "source": [
    "# Build the model\n",
    "lr = LinearRegression()\n",
    "model = lr.fit(X_train, y_train)"
   ]
  },
  {
   "cell_type": "code",
   "execution_count": 65,
   "id": "e8499c6c-ca85-4c5b-8f55-38e6e352f4be",
   "metadata": {},
   "outputs": [
    {
     "data": {
      "text/plain": [
       "array([462.75538365,  49.73297558])"
      ]
     },
     "execution_count": 65,
     "metadata": {},
     "output_type": "execute_result"
    }
   ],
   "source": [
    "model.coef_"
   ]
  },
  {
   "cell_type": "code",
   "execution_count": 66,
   "id": "c2af8aaa-dbe5-44ca-9f9a-b9b18d2d2548",
   "metadata": {},
   "outputs": [
    {
     "data": {
      "text/plain": [
       "np.float64(532.8326351891155)"
      ]
     },
     "execution_count": 66,
     "metadata": {},
     "output_type": "execute_result"
    }
   ],
   "source": [
    "model.intercept_"
   ]
  },
  {
   "cell_type": "code",
   "execution_count": 71,
   "id": "301c4ccd-ea50-4956-8284-e001a0b10b34",
   "metadata": {},
   "outputs": [],
   "source": [
    "predicted_rental_price = model.predict(np.array([X_test[0]]))"
   ]
  },
  {
   "cell_type": "code",
   "execution_count": 74,
   "id": "d36e7611-62f2-45c5-a058-c6e35becaffa",
   "metadata": {},
   "outputs": [
    {
     "name": "stdout",
     "output_type": "stream",
     "text": [
      "[59531.30027161]\n"
     ]
    }
   ],
   "source": [
    "print(predicted_rental_price)"
   ]
  },
  {
   "cell_type": "code",
   "execution_count": 60,
   "id": "695a11bc-9db1-4afd-9558-569fdb3d296d",
   "metadata": {},
   "outputs": [
    {
     "ename": "TypeError",
     "evalue": "can only concatenate str (not \"numpy.int64\") to str",
     "output_type": "error",
     "traceback": [
      "\u001b[1;31m---------------------------------------------------------------------------\u001b[0m",
      "\u001b[1;31mTypeError\u001b[0m                                 Traceback (most recent call last)",
      "Cell \u001b[1;32mIn[60], line 2\u001b[0m\n\u001b[0;32m      1\u001b[0m \u001b[38;5;66;03m# print(\"Actual Rental Price with Rooms:\" + {X_test[0][0]} + \"and Sqft\" + {X_test[0][1]} + \"is :\" + y_test[0])\u001b[39;00m\n\u001b[1;32m----> 2\u001b[0m \u001b[38;5;28mprint\u001b[39m(\u001b[38;5;124;43m\"\u001b[39;49m\u001b[38;5;124;43mPredicted Rental Price with Rooms:\u001b[39;49m\u001b[38;5;124;43m\"\u001b[39;49m\u001b[43m \u001b[49m\u001b[38;5;241;43m+\u001b[39;49m\u001b[43m \u001b[49m\u001b[43mX_test_values\u001b[49m\u001b[43m[\u001b[49m\u001b[38;5;241;43m0\u001b[39;49m\u001b[43m]\u001b[49m\u001b[43m[\u001b[49m\u001b[38;5;241;43m0\u001b[39;49m\u001b[43m]\u001b[49m \u001b[38;5;241m+\u001b[39m \u001b[38;5;124m\"\u001b[39m\u001b[38;5;124mand Sqft\u001b[39m\u001b[38;5;124m\"\u001b[39m \u001b[38;5;241m+\u001b[39m X_test_values[\u001b[38;5;241m0\u001b[39m][\u001b[38;5;241m1\u001b[39m] \u001b[38;5;241m+\u001b[39m \u001b[38;5;124m\"\u001b[39m\u001b[38;5;124mis :\u001b[39m\u001b[38;5;124m\"\u001b[39m \u001b[38;5;241m+\u001b[39m predicted_rental_price)\n",
      "\u001b[1;31mTypeError\u001b[0m: can only concatenate str (not \"numpy.int64\") to str"
     ]
    }
   ],
   "source": [
    "# print(\"Actual Rental Price with Rooms:\" + {X_test[0][0]} + \"and Sqft\" + {X_test[0][1]} + \"is :\" + y_test[0])\n",
    "# print(\"Predicted Rental Price with Rooms:\" + X_test_values[0][0] + \"and Sqft\" + X_test_values[0][1] + \"is :\" + predicted_rental_price)"
   ]
  },
  {
   "cell_type": "code",
   "execution_count": null,
   "id": "26637a21-ed86-4cad-b740-8b7e1137b881",
   "metadata": {},
   "outputs": [],
   "source": []
  }
 ],
 "metadata": {
  "kernelspec": {
   "display_name": "Python 3 (ipykernel)",
   "language": "python",
   "name": "python3"
  },
  "language_info": {
   "codemirror_mode": {
    "name": "ipython",
    "version": 3
   },
   "file_extension": ".py",
   "mimetype": "text/x-python",
   "name": "python",
   "nbconvert_exporter": "python",
   "pygments_lexer": "ipython3",
   "version": "3.12.7"
  }
 },
 "nbformat": 4,
 "nbformat_minor": 5
}
