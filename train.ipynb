{
 "cells": [
  {
   "cell_type": "code",
   "execution_count": 1,
   "id": "3e7cec43-07a3-4ab7-ba6e-1eae12b9b179",
   "metadata": {},
   "outputs": [],
   "source": [
    "#Import Libraries\n",
    "import pandas as pd\n",
    "import numpy as np\n",
    "\n",
    "from sklearn.model_selection import train_test_split\n",
    "from sklearn.linear_model import LinearRegression\n",
    "from sklearn.metrics import root_mean_squared_error\n",
    "from sklearn.metrics import r2_score"
   ]
  },
  {
   "cell_type": "code",
   "execution_count": 2,
   "id": "2149d36a-4c90-4d4b-bd36-907146787e07",
   "metadata": {},
   "outputs": [],
   "source": [
    "# Load the Dataset\n",
    "df = pd.read_csv('data/rental_1000.csv')"
   ]
  },
  {
   "cell_type": "code",
   "execution_count": 3,
   "id": "1fb34d09-f08f-48c9-a06e-47901811d4f7",
   "metadata": {},
   "outputs": [],
   "source": [
    "# Features and Labels\n",
    "X = df[['rooms','sqft']].values  # Features\n",
    "y = df['price'].values           # Label"
   ]
  },
  {
   "cell_type": "code",
   "execution_count": 4,
   "id": "2710325f-a163-4e85-a0ac-05e8b9d7362c",
   "metadata": {},
   "outputs": [],
   "source": [
    "#Split the data for Training and Testing\n",
    "X_train, X_test, y_train, y_test = train_test_split(X, y,test_size=0.20,random_state=0)"
   ]
  },
  {
   "cell_type": "code",
   "execution_count": 5,
   "id": "84afd499-8c1e-461a-bbfb-8cecc02a6a76",
   "metadata": {},
   "outputs": [],
   "source": [
    "# Build the model\n",
    "lr = LinearRegression()\n",
    "model = lr.fit(X_train, y_train)"
   ]
  },
  {
   "cell_type": "code",
   "execution_count": null,
   "id": "e8499c6c-ca85-4c5b-8f55-38e6e352f4be",
   "metadata": {},
   "outputs": [],
   "source": [
    "# print(\"Cofficents for the developed Model:\",model.coef_)\n",
    "# print(\"Cofficents for the developed Model:\",model.intercept_)"
   ]
  },
  {
   "cell_type": "code",
   "execution_count": 11,
   "id": "fb2a9afa-88a6-490b-8e89-2b5efb0bdbfa",
   "metadata": {},
   "outputs": [
    {
     "name": "stdin",
     "output_type": "stream",
     "text": [
      "Enter the no.of rooms: 2\n"
     ]
    }
   ],
   "source": [
    "rooms = int(input(\"Enter the no.of rooms:\"))"
   ]
  },
  {
   "cell_type": "code",
   "execution_count": 12,
   "id": "b512a589-007b-43fa-849c-1c0627e95899",
   "metadata": {},
   "outputs": [
    {
     "name": "stdin",
     "output_type": "stream",
     "text": [
      "Enter the area in Sqft: 2000\n"
     ]
    }
   ],
   "source": [
    "sqft = int(input(\"Enter the area in Sqft:\"))"
   ]
  },
  {
   "cell_type": "code",
   "execution_count": 15,
   "id": "c16d4faa-96c8-4044-8e3d-2988f5962a94",
   "metadata": {},
   "outputs": [],
   "source": [
    "user_input = np.array([[rooms,sqft]])\n",
    "#ValueError: dtype='numeric' is not compatible with arrays of bytes/strings.Convert your data to numeric values explicitly instead."
   ]
  },
  {
   "cell_type": "code",
   "execution_count": 16,
   "id": "7543a6bf-78e4-4e8a-9687-9a83c20ccd51",
   "metadata": {},
   "outputs": [],
   "source": [
    "predicted_rental_price = model.predict(user_input)"
   ]
  },
  {
   "cell_type": "code",
   "execution_count": 19,
   "id": "695a11bc-9db1-4afd-9558-569fdb3d296d",
   "metadata": {},
   "outputs": [
    {
     "name": "stdout",
     "output_type": "stream",
     "text": [
      "####################################### Prediction Started Using Model #######################################\n",
      "Predicted Rental Price with Rooms=2 and Sqft=2000 is 100911.575016\n",
      "####################################### Prediction Concluded Using Model #######################################\n"
     ]
    }
   ],
   "source": [
    "print(\"####################################### Prediction Started Using Model #######################################\")\n",
    "print(f\"Predicted Rental Price with Rooms={rooms} and Sqft={sqft} is {predicted_rental_price[0]:2f}\")\n",
    "print(\"####################################### Prediction Concluded Using Model #######################################\")"
   ]
  },
  {
   "cell_type": "code",
   "execution_count": null,
   "id": "f47f3ce6-bc9f-4e8e-84fe-dcfeb46f6381",
   "metadata": {},
   "outputs": [],
   "source": [
    "y_pred = model.predict(X_test)"
   ]
  },
  {
   "cell_type": "code",
   "execution_count": null,
   "id": "283362cd-178b-43dd-864c-95ebba18acae",
   "metadata": {},
   "outputs": [],
   "source": [
    "root_mean_squared_error_score = root_mean_squared_error(y_test, y_pred)\n",
    "r2_score_value = r2_score(y_test, y_pred)"
   ]
  },
  {
   "cell_type": "code",
   "execution_count": null,
   "id": "b4e95186-2801-46a3-84b7-cd4c8bf7d1c4",
   "metadata": {},
   "outputs": [],
   "source": [
    "print(\"Root Mean Squared Error for Built Model\",root_mean_squared_error_score)\n",
    "print(\"Accuary Score for Built Model\",r2_score_value)"
   ]
  },
  {
   "cell_type": "code",
   "execution_count": null,
   "id": "cded5362-0ae6-49a0-8714-ed545392a864",
   "metadata": {},
   "outputs": [],
   "source": []
  }
 ],
 "metadata": {
  "kernelspec": {
   "display_name": "Python 3 (ipykernel)",
   "language": "python",
   "name": "python3"
  },
  "language_info": {
   "codemirror_mode": {
    "name": "ipython",
    "version": 3
   },
   "file_extension": ".py",
   "mimetype": "text/x-python",
   "name": "python",
   "nbconvert_exporter": "python",
   "pygments_lexer": "ipython3",
   "version": "3.12.7"
  }
 },
 "nbformat": 4,
 "nbformat_minor": 5
}
