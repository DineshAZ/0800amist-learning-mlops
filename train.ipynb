{
 "cells": [
  {
   "cell_type": "code",
   "execution_count": 1,
   "id": "3e7cec43-07a3-4ab7-ba6e-1eae12b9b179",
   "metadata": {},
   "outputs": [],
   "source": [
    "#Import Libraries\n",
    "import pandas as pd\n",
    "import numpy as np\n",
    "\n",
    "from sklearn.model_selection import train_test_split\n",
    "from sklearn.linear_model import LinearRegression"
   ]
  },
  {
   "cell_type": "code",
   "execution_count": 2,
   "id": "2149d36a-4c90-4d4b-bd36-907146787e07",
   "metadata": {},
   "outputs": [],
   "source": [
    "# Load the Dataset\n",
    "df = pd.read_csv('data/rental_1000.csv')"
   ]
  },
  {
   "cell_type": "code",
   "execution_count": 3,
   "id": "1fb34d09-f08f-48c9-a06e-47901811d4f7",
   "metadata": {},
   "outputs": [],
   "source": [
    "# Features and Labels\n",
    "X = df[['rooms','sqft']].values  # Features\n",
    "y = df['price'].values           # Label"
   ]
  },
  {
   "cell_type": "code",
   "execution_count": 4,
   "id": "2710325f-a163-4e85-a0ac-05e8b9d7362c",
   "metadata": {},
   "outputs": [],
   "source": [
    "#Split the data for Training and Testing\n",
    "X_train, X_test, y_train, y_test = train_test_split(X, y,test_size=0.20,random_state=0)"
   ]
  },
  {
   "cell_type": "code",
   "execution_count": 5,
   "id": "84afd499-8c1e-461a-bbfb-8cecc02a6a76",
   "metadata": {},
   "outputs": [],
   "source": [
    "# Build the model\n",
    "lr = LinearRegression()\n",
    "model = lr.fit(X_train, y_train)"
   ]
  },
  {
   "cell_type": "code",
   "execution_count": null,
   "id": "e8499c6c-ca85-4c5b-8f55-38e6e352f4be",
   "metadata": {},
   "outputs": [],
   "source": [
    "# print(\"Cofficents for the developed Model:\",model.coef_)\n",
    "# print(\"Cofficents for the developed Model:\",model.intercept_)"
   ]
  },
  {
   "cell_type": "code",
   "execution_count": 29,
   "id": "301c4ccd-ea50-4956-8284-e001a0b10b34",
   "metadata": {},
   "outputs": [],
   "source": [
    "predicted_rental_price = model.predict(np.array([X_test[0]]))"
   ]
  },
  {
   "cell_type": "code",
   "execution_count": null,
   "id": "695a11bc-9db1-4afd-9558-569fdb3d296d",
   "metadata": {},
   "outputs": [],
   "source": [
    "print(\"####################################### Prediction Started Using Model #######################################\")\n",
    "print(f\"Actual Rental Price with Rooms: {X_test[0][0]} and Sqft + {X_test[0][1]} is {y_test[0]}\")\n",
    "print(f\"Predicted Rental Price with Rooms: {X_test[0][0]} and Sqft + {X_test[0][1]} is {predicted_rental_price}\")\n",
    "print(\"####################################### Prediction Concluded Using Model #######################################\")"
   ]
  },
  {
   "cell_type": "code",
   "execution_count": null,
   "id": "283362cd-178b-43dd-864c-95ebba18acae",
   "metadata": {},
   "outputs": [],
   "source": []
  }
 ],
 "metadata": {
  "kernelspec": {
   "display_name": "Python 3 (ipykernel)",
   "language": "python",
   "name": "python3"
  },
  "language_info": {
   "codemirror_mode": {
    "name": "ipython",
    "version": 3
   },
   "file_extension": ".py",
   "mimetype": "text/x-python",
   "name": "python",
   "nbconvert_exporter": "python",
   "pygments_lexer": "ipython3",
   "version": "3.12.7"
  }
 },
 "nbformat": 4,
 "nbformat_minor": 5
}
